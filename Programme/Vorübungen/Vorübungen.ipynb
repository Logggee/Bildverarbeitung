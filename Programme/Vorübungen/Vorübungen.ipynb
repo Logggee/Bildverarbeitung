{
 "cells": [
  {
   "cell_type": "code",
   "execution_count": 2,
   "metadata": {},
   "outputs": [
    {
     "name": "stdout",
     "output_type": "stream",
     "text": [
      "Collecting opencv-contrib-python\n",
      "  Downloading opencv_contrib_python-4.7.0.72-cp37-abi3-win_amd64.whl (44.9 MB)\n",
      "Requirement already satisfied: numpy>=1.17.3 in g:\\anaconda\\lib\\site-packages (from opencv-contrib-python) (1.20.1)\n",
      "Installing collected packages: opencv-contrib-python\n",
      "Successfully installed opencv-contrib-python-4.7.0.72\n",
      "Note: you may need to restart the kernel to use updated packages.\n"
     ]
    }
   ],
   "source": [
    "pip install opencv-contrib-python"
   ]
  },
  {
   "cell_type": "code",
   "execution_count": 1,
   "metadata": {},
   "outputs": [],
   "source": [
    "import cv2"
   ]
  },
  {
   "cell_type": "code",
   "execution_count": 6,
   "metadata": {},
   "outputs": [],
   "source": [
    "def DrawPoint(event, x, y, flags, param):\n",
    "    if event == cv2.EVENT_LBUTTONDOWN: #Wenn linke Maustaste gedrückt wurde\n",
    "        cv2.circle(img, center=(x,y), radius=0, color=(0,0,255), thickness=10) #roten Kreis an die stelle des Mauszeigers Zeichnen\n",
    "\n",
    "path = r'Porsche.jpg'  #Dateipfad des Bildes\n",
    "img = cv2.imread(path) #Bild einlesen\n",
    "\n",
    "#Bild croppen\n",
    "scale_percent = 60 #scale des Bildes in %\n",
    "width = int(img.shape[1] * scale_percent / 100)\n",
    "height = int(img.shape[0] * scale_percent / 100)\n",
    "dim = (width, height)\n",
    "resized = cv2.resize(img, dim, interpolation = cv2.INTER_AREA)\n",
    "\n",
    "#Blur Image\n",
    "blurImg = cv2.blur(resized, (20,20))\n",
    "\n",
    "#Croppe Image\n",
    "croppedImg = blurImg[0:500, 0:500] #Hight, Width\n",
    "\n",
    "#Draw Dot\n",
    "cv2.namedWindow(winname = 'image')\n",
    "cv2.setMouseCallback('image',DrawPoint)  #Funktion für den Mausinterrupt \n",
    "\n",
    "while(1):\n",
    "    cv2.imshow('image',img)  #Ausgabe des Image in einer Unendlichen Schleife\n",
    "    if cv2.waitKey(20) == ord('q'):  #Abbruch mit der Taste q\n",
    "        break\n",
    "cv2.destroyAllWindows()\n",
    "\n",
    "\n",
    "# Display the image\n",
    "#cv2.imshow('Image', img)\n",
    "\n",
    "# Wait for a key press and then close the window\n",
    "#cv2.waitKey(0)\n",
    "#cv2.destroyAllWindows()"
   ]
  },
  {
   "cell_type": "code",
   "execution_count": null,
   "metadata": {},
   "outputs": [],
   "source": []
  }
 ],
 "metadata": {
  "kernelspec": {
   "display_name": "Python 3",
   "language": "python",
   "name": "python3"
  },
  "language_info": {
   "codemirror_mode": {
    "name": "ipython",
    "version": 3
   },
   "file_extension": ".py",
   "mimetype": "text/x-python",
   "name": "python",
   "nbconvert_exporter": "python",
   "pygments_lexer": "ipython3",
   "version": "3.8.8"
  }
 },
 "nbformat": 4,
 "nbformat_minor": 2
}
