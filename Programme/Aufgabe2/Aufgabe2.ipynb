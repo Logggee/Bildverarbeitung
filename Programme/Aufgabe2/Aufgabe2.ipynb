{
 "cells": [
  {
   "attachments": {},
   "cell_type": "markdown",
   "metadata": {},
   "source": [
    "# Rote Punkte Zeichnen mit q Beenden"
   ]
  },
  {
   "cell_type": "code",
   "execution_count": 2,
   "metadata": {},
   "outputs": [],
   "source": [
    "import cv2\n",
    "\n",
    "path = 'Gesicht.jpg'  #Dateipfad des Bildes\n",
    "img = cv2.imread(path) #Bild einlesen\n",
    "\n",
    "#draw point with mouse in the picture\n",
    "def DrawPoint(event, x, y, flags, param):\n",
    "    if event == cv2.EVENT_LBUTTONDOWN: #Wenn linke Maustaste gedrückt wurde\n",
    "        cv2.circle(img, center=(x,y), radius=0, color=(0,0,255), thickness=5) #roten Kreis an die stelle des Mauszeigers Zeichnen\n",
    "\n",
    "#Punkt zeichnen\n",
    "cv2.namedWindow(winname = 'image')\n",
    "cv2.setMouseCallback('image',DrawPoint)  #Funktion für den Mausinterrupt \n",
    "\n",
    "while(1):\n",
    "    cv2.imshow('image',img)  #Ausgabe des Image in einer Unendlichen Schleife\n",
    "    if cv2.waitKey(20) == ord('q'):  #Abbruch mit der Taste q\n",
    "        break\n",
    "cv2.destroyAllWindows()"
   ]
  },
  {
   "attachments": {},
   "cell_type": "markdown",
   "metadata": {},
   "source": [
    "# Polynom mit Mindestens 3 Punkten erzeugen"
   ]
  },
  {
   "cell_type": "code",
   "execution_count": 4,
   "metadata": {},
   "outputs": [
    {
     "name": "stdout",
     "output_type": "stream",
     "text": [
      "[(179, 93)]\n",
      "[(179, 93), (253, 275)]\n",
      "[(179, 93), (253, 275), (472, 245)]\n",
      "[(179, 93), (253, 275), (472, 245), (388, 91)]\n",
      "Test\n",
      "[[0 0 0 ... 0 0 0]\n",
      " [0 0 0 ... 0 0 0]\n",
      " [0 0 0 ... 0 0 0]\n",
      " ...\n",
      " [0 0 0 ... 0 0 0]\n",
      " [0 0 0 ... 0 0 0]\n",
      " [0 0 0 ... 0 0 0]]\n",
      "[[0 0 0 ... 0 0 0]\n",
      " [0 0 0 ... 0 0 0]\n",
      " [0 0 0 ... 0 0 0]\n",
      " ...\n",
      " [0 0 0 ... 0 0 0]\n",
      " [0 0 0 ... 0 0 0]\n",
      " [0 0 0 ... 0 0 0]]\n"
     ]
    }
   ],
   "source": [
    "import cv2\n",
    "import numpy as np\n",
    "\n",
    "# Open the image file\n",
    "img = cv2.imread('Gesicht.jpg')\n",
    "\n",
    "# Set up the mouse callback function\n",
    "def draw_circle(event,x,y,flags,param):\n",
    "    if event == cv2.EVENT_LBUTTONDOWN:\n",
    "        cv2.circle(img,(x,y),3,(0,0,255),-1)\n",
    "        points.append((x,y))\n",
    "        print(points)\n",
    "        if len(points) > 2:\n",
    "            cv2.polylines(img, [np.array(points)], True, (0, 255, 0), thickness=2) #image, liste aus Punkten in zweier Tupel, soll das Polygon geschlossen werden, Farbe, dicke Linie\n",
    "\n",
    "def Cutout():\n",
    "    print(\"Test\")\n",
    "    ## (2) make mask\n",
    "    pts = np.array(points)\n",
    "    mask = np.zeros(img.shape[:2], np.uint8)\n",
    "    cv2.drawContours(mask, [pts], -1, (255, 255, 255), -1, cv2.LINE_AA)\n",
    "\n",
    "    ## (3) do bit-op\n",
    "    test = cv2.bitwise_and(img, img, mask=mask)\n",
    "    cv2.imwrite(\"test.png\", test)\n",
    "\n",
    "# Set up the window and callback\n",
    "cv2.namedWindow('image')\n",
    "cv2.setMouseCallback('image',draw_circle)\n",
    "points = []\n",
    "\n",
    "# Loop to display the image and wait for events\n",
    "while True:\n",
    "    cv2.imshow('image',img)  #Ausgabe des Image in einer Unendlichen Schleife\n",
    "    \n",
    "    if cv2.waitKey(20) == ord('q'):  #Abbruch mit der Taste q\n",
    "        break\n",
    "\n",
    "    if cv2.waitKey(20) == ord('c'):  #Abbruch mit der Taste q\n",
    "        Cutout()\n",
    "\n",
    "cv2.destroyAllWindows()"
   ]
  },
  {
   "cell_type": "code",
   "execution_count": 5,
   "metadata": {},
   "outputs": [
    {
     "name": "stdout",
     "output_type": "stream",
     "text": [
      "[[0 0 0 ... 0 0 0]\n",
      " [0 0 0 ... 0 0 0]\n",
      " [0 0 0 ... 0 0 0]\n",
      " ...\n",
      " [0 0 0 ... 0 0 0]\n",
      " [0 0 0 ... 0 0 0]\n",
      " [0 0 0 ... 0 0 0]]\n",
      "[[  0   0   0 ...   0   0   0]\n",
      " [  0   0   0 ...   0   0   0]\n",
      " [  0   0   0 ...   0   0   0]\n",
      " ...\n",
      " [206 255 255 ...   0   0   0]\n",
      " [230 255 255 ...   0   0   0]\n",
      " [213 216 132 ...   0   0   0]]\n"
     ]
    },
    {
     "data": {
      "text/plain": [
       "True"
      ]
     },
     "execution_count": 5,
     "metadata": {},
     "output_type": "execute_result"
    }
   ],
   "source": [
    "# 2018.01.17 20:39:17 CST\n",
    "# 2018.01.17 20:50:35 CST\n",
    "import numpy as np\n",
    "import cv2\n",
    "\n",
    "img = cv2.imread(\"Robot.png\")\n",
    "pts = np.array([[10,150],[150,100],[300,150],[350,100],[310,20],[35,10]])\n",
    "\n",
    "## (1) Crop the bounding rect\n",
    "rect = cv2.boundingRect(pts)\n",
    "x,y,w,h = rect\n",
    "croped = img[y:y+h, x:x+w].copy()\n",
    "\n",
    "## (2) make mask\n",
    "pts = pts - pts.min(axis=0)\n",
    "\n",
    "mask = np.zeros(croped.shape[:2], np.uint8)\n",
    "print(mask)\n",
    "cv2.drawContours(mask, [pts], -1, (255, 255, 255), -1, cv2.LINE_AA)\n",
    "print(mask)\n",
    "\n",
    "## (3) do bit-op\n",
    "dst = cv2.bitwise_and(croped, croped, mask=mask)\n",
    "\n",
    "## (4) add the white background\n",
    "bg = np.ones_like(croped, np.uint8)*255\n",
    "cv2.bitwise_not(bg,bg, mask=mask)\n",
    "dst2 = bg+ dst\n",
    "\n",
    "\n",
    "cv2.imwrite(\"croped.png\", croped)\n",
    "cv2.imwrite(\"mask.png\", mask)\n",
    "cv2.imwrite(\"dst.png\", dst)\n",
    "cv2.imwrite(\"dst2.png\", dst2)"
   ]
  },
  {
   "cell_type": "code",
   "execution_count": null,
   "metadata": {},
   "outputs": [],
   "source": []
  }
 ],
 "metadata": {
  "kernelspec": {
   "display_name": "base",
   "language": "python",
   "name": "python3"
  },
  "language_info": {
   "codemirror_mode": {
    "name": "ipython",
    "version": 3
   },
   "file_extension": ".py",
   "mimetype": "text/x-python",
   "name": "python",
   "nbconvert_exporter": "python",
   "pygments_lexer": "ipython3",
   "version": "3.8.8"
  },
  "orig_nbformat": 4
 },
 "nbformat": 4,
 "nbformat_minor": 2
}
