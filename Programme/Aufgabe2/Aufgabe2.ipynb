{
 "cells": [
  {
   "cell_type": "code",
   "execution_count": 2,
   "metadata": {},
   "outputs": [],
   "source": [
    "import cv2\n",
    "\n",
    "path = 'Gesicht.jpg'  #Dateipfad des Bildes\n",
    "img = cv2.imread(path) #Bild einlesen\n",
    "\n",
    "#draw point with mouse in the picture\n",
    "def DrawPoint(event, x, y, flags, param):\n",
    "    if event == cv2.EVENT_LBUTTONDOWN: #Wenn linke Maustaste gedrückt wurde\n",
    "        cv2.circle(img, center=(x,y), radius=0, color=(0,0,255), thickness=5) #roten Kreis an die stelle des Mauszeigers Zeichnen\n",
    "\n",
    "#Punkt zeichnen\n",
    "cv2.namedWindow(winname = 'image')\n",
    "cv2.setMouseCallback('image',DrawPoint)  #Funktion für den Mausinterrupt \n",
    "\n",
    "while(1):\n",
    "    cv2.imshow('image',img)  #Ausgabe des Image in einer Unendlichen Schleife\n",
    "    if cv2.waitKey(20) == ord('q'):  #Abbruch mit der Taste q\n",
    "        break\n",
    "cv2.destroyAllWindows()"
   ]
  },
  {
   "cell_type": "code",
   "execution_count": 4,
   "metadata": {},
   "outputs": [
    {
     "name": "stdout",
     "output_type": "stream",
     "text": [
      "[(247, 47)]\n",
      "[(247, 47), (238, 84)]\n",
      "[(247, 47), (238, 84), (240, 125)]\n",
      "[(247, 47), (238, 84), (240, 125), (302, 175)]\n",
      "[(247, 47), (238, 84), (240, 125), (302, 175), (369, 148)]\n",
      "[(247, 47), (238, 84), (240, 125), (302, 175), (369, 148), (398, 100)]\n",
      "[(247, 47), (238, 84), (240, 125), (302, 175), (369, 148), (398, 100), (358, 59)]\n",
      "[(247, 47), (238, 84), (240, 125), (302, 175), (369, 148), (398, 100), (358, 59), (247, 42)]\n",
      "[(247, 47), (238, 84), (240, 125), (302, 175), (369, 148), (398, 100), (358, 59), (247, 42), (204, 44)]\n"
     ]
    }
   ],
   "source": [
    "import cv2\n",
    "import numpy as np\n",
    "\n",
    "# Open the image file\n",
    "img = cv2.imread('Gesicht.jpg')\n",
    "\n",
    "# Set up the mouse callback function\n",
    "def draw_circle(event,x,y,flags,param):\n",
    "    if event == cv2.EVENT_LBUTTONDOWN:\n",
    "        cv2.circle(img,(x,y),3,(0,0,255),-1)\n",
    "        points.append((x,y))\n",
    "        print(points)\n",
    "        if len(points) > 2:\n",
    "            cv2.polylines(img, [np.array(points)], True, (0, 255, 0), thickness=2) #image, liste aus Punkten in zweier Tupel, soll das Polygon geschlossen werden, Farbe, dicke Linie\n",
    "\n",
    "# Set up the window and callback\n",
    "cv2.namedWindow('image')\n",
    "cv2.setMouseCallback('image',draw_circle)\n",
    "points = []\n",
    "\n",
    "# Loop to display the image and wait for events\n",
    "while True:\n",
    "    cv2.imshow('image',img)  #Ausgabe des Image in einer Unendlichen Schleife\n",
    "    if cv2.waitKey(20) == ord('q'):  #Abbruch mit der Taste q\n",
    "        break\n",
    "\n",
    "cv2.destroyAllWindows()"
   ]
  },
  {
   "cell_type": "code",
   "execution_count": 5,
   "metadata": {},
   "outputs": [
    {
     "ename": "TypeError",
     "evalue": "'NoneType' object is not subscriptable",
     "output_type": "error",
     "traceback": [
      "\u001b[1;31m---------------------------------------------------------------------------\u001b[0m",
      "\u001b[1;31mTypeError\u001b[0m                                 Traceback (most recent call last)",
      "Cell \u001b[1;32mIn[5], line 12\u001b[0m\n\u001b[0;32m     10\u001b[0m rect \u001b[39m=\u001b[39m cv2\u001b[39m.\u001b[39mboundingRect(pts)\n\u001b[0;32m     11\u001b[0m x,y,w,h \u001b[39m=\u001b[39m rect\n\u001b[1;32m---> 12\u001b[0m croped \u001b[39m=\u001b[39m img[y:y\u001b[39m+\u001b[39;49mh, x:x\u001b[39m+\u001b[39;49mw]\u001b[39m.\u001b[39mcopy()\n\u001b[0;32m     14\u001b[0m \u001b[39m## (2) make mask\u001b[39;00m\n\u001b[0;32m     15\u001b[0m pts \u001b[39m=\u001b[39m pts \u001b[39m-\u001b[39m pts\u001b[39m.\u001b[39mmin(axis\u001b[39m=\u001b[39m\u001b[39m0\u001b[39m)\n",
      "\u001b[1;31mTypeError\u001b[0m: 'NoneType' object is not subscriptable"
     ]
    }
   ],
   "source": [
    "# 2018.01.17 20:39:17 CST\n",
    "# 2018.01.17 20:50:35 CST\n",
    "import numpy as np\n",
    "import cv2\n",
    "\n",
    "img = cv2.imread(\"test.png\")\n",
    "pts = np.array([[10,150],[150,100],[300,150],[350,100],[310,20],[35,10]])\n",
    "\n",
    "## (1) Crop the bounding rect\n",
    "rect = cv2.boundingRect(pts)\n",
    "x,y,w,h = rect\n",
    "croped = img[y:y+h, x:x+w].copy()\n",
    "\n",
    "## (2) make mask\n",
    "pts = pts - pts.min(axis=0)\n",
    "\n",
    "mask = np.zeros(croped.shape[:2], np.uint8)\n",
    "cv2.drawContours(mask, [pts], -1, (255, 255, 255), -1, cv2.LINE_AA)\n",
    "\n",
    "## (3) do bit-op\n",
    "dst = cv2.bitwise_and(croped, croped, mask=mask)\n",
    "\n",
    "## (4) add the white background\n",
    "bg = np.ones_like(croped, np.uint8)*255\n",
    "cv2.bitwise_not(bg,bg, mask=mask)\n",
    "dst2 = bg+ dst\n",
    "\n",
    "\n",
    "cv2.imwrite(\"croped.png\", croped)\n",
    "cv2.imwrite(\"mask.png\", mask)\n",
    "cv2.imwrite(\"dst.png\", dst)\n",
    "cv2.imwrite(\"dst2.png\", dst2)"
   ]
  },
  {
   "cell_type": "code",
   "execution_count": 6,
   "metadata": {},
   "outputs": [
    {
     "ename": "error",
     "evalue": "OpenCV(4.7.0) D:\\a\\opencv-python\\opencv-python\\opencv\\modules\\imgproc\\src\\drawing.cpp:2402: error: (-215:Assertion failed) p.checkVector(2, CV_32S) >= 0 in function 'cv::fillPoly'\n",
     "output_type": "error",
     "traceback": [
      "\u001b[1;31m---------------------------------------------------------------------------\u001b[0m",
      "\u001b[1;31merror\u001b[0m                                     Traceback (most recent call last)",
      "Cell \u001b[1;32mIn[6], line 30\u001b[0m, in \u001b[0;36mmouse_callback\u001b[1;34m(event, x, y, flags, param)\u001b[0m\n\u001b[0;32m     28\u001b[0m cv2\u001b[39m.\u001b[39mline(mask, prev_point, (x, y), \u001b[39m255\u001b[39m, \u001b[39m2\u001b[39m)\n\u001b[0;32m     29\u001b[0m cv2\u001b[39m.\u001b[39mcircle(img, (x, y), \u001b[39m2\u001b[39m, (\u001b[39m0\u001b[39m, \u001b[39m0\u001b[39m, \u001b[39m255\u001b[39m), \u001b[39m-\u001b[39m\u001b[39m1\u001b[39m)\n\u001b[1;32m---> 30\u001b[0m cv2\u001b[39m.\u001b[39;49mfillPoly(mask, [np\u001b[39m.\u001b[39;49marray(points)], \u001b[39m255\u001b[39;49m)\n\u001b[0;32m     31\u001b[0m alpha \u001b[39m=\u001b[39m np\u001b[39m.\u001b[39mzeros((img_height, img_width), dtype\u001b[39m=\u001b[39mnp\u001b[39m.\u001b[39muint8)\n\u001b[0;32m     32\u001b[0m alpha[mask \u001b[39m>\u001b[39m \u001b[39m0\u001b[39m] \u001b[39m=\u001b[39m \u001b[39m255\u001b[39m\n",
      "\u001b[1;31merror\u001b[0m: OpenCV(4.7.0) D:\\a\\opencv-python\\opencv-python\\opencv\\modules\\imgproc\\src\\drawing.cpp:2402: error: (-215:Assertion failed) p.checkVector(2, CV_32S) >= 0 in function 'cv::fillPoly'\n"
     ]
    },
    {
     "ename": "NameError",
     "evalue": "name 'rgba' is not defined",
     "output_type": "error",
     "traceback": [
      "\u001b[1;31m---------------------------------------------------------------------------\u001b[0m",
      "\u001b[1;31mNameError\u001b[0m                                 Traceback (most recent call last)",
      "Cell \u001b[1;32mIn[6], line 52\u001b[0m\n\u001b[0;32m     49\u001b[0m cv2\u001b[39m.\u001b[39mwaitKey(\u001b[39m0\u001b[39m)\n\u001b[0;32m     51\u001b[0m \u001b[39m# Save image with alpha channel\u001b[39;00m\n\u001b[1;32m---> 52\u001b[0m cv2\u001b[39m.\u001b[39mimwrite(\u001b[39m'\u001b[39m\u001b[39mface_alpha.png\u001b[39m\u001b[39m'\u001b[39m, rgba)\n\u001b[0;32m     54\u001b[0m \u001b[39m# Cleanup\u001b[39;00m\n\u001b[0;32m     55\u001b[0m cv2\u001b[39m.\u001b[39mdestroyAllWindows()\n",
      "\u001b[1;31mNameError\u001b[0m: name 'rgba' is not defined"
     ]
    },
    {
     "ename": "",
     "evalue": "",
     "output_type": "error",
     "traceback": [
      "\u001b[1;31mThe Kernel crashed while executing code in the the current cell or a previous cell. Please review the code in the cell(s) to identify a possible cause of the failure. Click <a href='https://aka.ms/vscodeJupyterKernelCrash'>here</a> for more info. View Jupyter <a href='command:jupyter.viewOutput'>log</a> for further details."
     ]
    }
   ],
   "source": [
    "import cv2\n",
    "import numpy as np\n",
    "\n",
    "# Load image\n",
    "img = cv2.imread('Robot.png')\n",
    "img_height, img_width = img.shape[:2]\n",
    "\n",
    "# Create mask image\n",
    "mask = np.zeros((img_height, img_width), dtype=np.uint8)\n",
    "\n",
    "# Define mouse callback function\n",
    "def mouse_callback(event, x, y, flags, param):\n",
    "    global mask, drawing, prev_point\n",
    "    \n",
    "    if event == cv2.EVENT_LBUTTONDOWN:\n",
    "        # Start drawing\n",
    "        drawing = True\n",
    "        prev_point = (x, y)\n",
    "    elif event == cv2.EVENT_MOUSEMOVE:\n",
    "        # Draw polygon\n",
    "        if drawing:\n",
    "            cv2.line(mask, prev_point, (x, y), 255, 2)\n",
    "            cv2.circle(img, (x, y), 2, (0, 0, 255), -1)\n",
    "            prev_point = (x, y)\n",
    "    elif event == cv2.EVENT_LBUTTONUP:\n",
    "        # Finish drawing\n",
    "        drawing = False\n",
    "        cv2.line(mask, prev_point, (x, y), 255, 2)\n",
    "        cv2.circle(img, (x, y), 2, (0, 0, 255), -1)\n",
    "        cv2.fillPoly(mask, [np.array(points)], 255)\n",
    "        alpha = np.zeros((img_height, img_width), dtype=np.uint8)\n",
    "        alpha[mask > 0] = 255\n",
    "        b, g, r = cv2.split(img)\n",
    "        rgba = cv2.merge((b, g, r, alpha))\n",
    "        cv2.imshow('image', rgba)\n",
    "\n",
    "# Initialize variables\n",
    "drawing = False\n",
    "prev_point = None\n",
    "points = []\n",
    "\n",
    "# Show image\n",
    "cv2.imshow('image', img)\n",
    "\n",
    "# Set mouse callback function\n",
    "cv2.setMouseCallback('image', mouse_callback)\n",
    "\n",
    "# Wait for user to finish drawing\n",
    "cv2.waitKey(0)\n",
    "\n",
    "# Save image with alpha channel\n",
    "cv2.imwrite('face_alpha.png', rgba)\n",
    "\n",
    "# Cleanup\n",
    "cv2.destroyAllWindows()\n"
   ]
  },
  {
   "cell_type": "code",
   "execution_count": null,
   "metadata": {},
   "outputs": [],
   "source": []
  }
 ],
 "metadata": {
  "kernelspec": {
   "display_name": "base",
   "language": "python",
   "name": "python3"
  },
  "language_info": {
   "codemirror_mode": {
    "name": "ipython",
    "version": 3
   },
   "file_extension": ".py",
   "mimetype": "text/x-python",
   "name": "python",
   "nbconvert_exporter": "python",
   "pygments_lexer": "ipython3",
   "version": "3.8.8"
  },
  "orig_nbformat": 4
 },
 "nbformat": 4,
 "nbformat_minor": 2
}
